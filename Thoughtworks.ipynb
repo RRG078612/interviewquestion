{
 "cells": [
  {
   "cell_type": "code",
   "execution_count": null,
   "id": "f7976a6d",
   "metadata": {},
   "outputs": [],
   "source": []
  },
  {
   "cell_type": "code",
   "execution_count": 64,
   "id": "b9663eba",
   "metadata": {},
   "outputs": [],
   "source": [
    "from pyspark.sql import SparkSession\n",
    "spark =SparkSession.builder.appName(\"Thoughtworks\")\\\n",
    ".config(\"spark.ui.port\",\"0\")\\\n",
    ".config(\"spark.sql.warehouse.dir\",\"user/itv010683/warehouse\")\\\n",
    ".enableHiveSupport()\\\n",
    ".master(\"yarn\")\\\n",
    ".getOrCreate()"
   ]
  },
  {
   "cell_type": "code",
   "execution_count": 65,
   "id": "973ec035",
   "metadata": {},
   "outputs": [],
   "source": [
    "# spark.stop()"
   ]
  },
  {
   "cell_type": "code",
   "execution_count": 66,
   "id": "fb7fecea",
   "metadata": {},
   "outputs": [],
   "source": [
    "from pyspark.sql .functions import col,count,desc"
   ]
  },
  {
   "cell_type": "code",
   "execution_count": 67,
   "id": "6de67532",
   "metadata": {},
   "outputs": [
    {
     "name": "stdout",
     "output_type": "stream",
     "text": [
      "+-----+-----+\n",
      "|user1|user2|\n",
      "+-----+-----+\n",
      "|    1|    2|\n",
      "|    1|    3|\n",
      "|    2|    3|\n",
      "|    1|    4|\n",
      "|    2|    4|\n",
      "|    1|    5|\n",
      "|    2|    5|\n",
      "|    1|    7|\n",
      "|    3|    7|\n",
      "|    1|    6|\n",
      "|    3|    6|\n",
      "|    2|    6|\n",
      "+-----+-----+\n",
      "\n"
     ]
    }
   ],
   "source": [
    "data = [(\"1\",\"2\"),(\"1\",\"3\"),(\"2\",\"3\"),(\"1\",\"4\"),(\"2\",\"4\"),(\"1\",\"5\"),(\"2\",\"5\"),(\"1\",\"7\"),(\"3\",\"7\"),(\"1\",\"6\"),(\"3\",\"6\"),(\"2\",\"6\")]\n",
    "schema ='user1 string , user2 string'\n",
    "df = spark.createDataFrame(data,schema)\n",
    "df.show()"
   ]
  },
  {
   "cell_type": "code",
   "execution_count": 68,
   "id": "cce0668c",
   "metadata": {},
   "outputs": [],
   "source": [
    "df1 = df.select('*')"
   ]
  },
  {
   "cell_type": "code",
   "execution_count": 69,
   "id": "2f82b0a4",
   "metadata": {},
   "outputs": [],
   "source": [
    "df2 = df.select(col('user2').alias(\"user1\"),col('user1').alias(\"user2\"))"
   ]
  },
  {
   "cell_type": "code",
   "execution_count": 70,
   "id": "e8deb377",
   "metadata": {},
   "outputs": [
    {
     "name": "stdout",
     "output_type": "stream",
     "text": [
      "+-----+-----+\n",
      "|user1|user2|\n",
      "+-----+-----+\n",
      "|    2|    1|\n",
      "|    3|    1|\n",
      "|    3|    2|\n",
      "|    4|    1|\n",
      "|    4|    2|\n",
      "|    5|    1|\n",
      "|    5|    2|\n",
      "|    7|    1|\n",
      "|    7|    3|\n",
      "|    6|    1|\n",
      "|    6|    3|\n",
      "|    6|    2|\n",
      "+-----+-----+\n",
      "\n"
     ]
    }
   ],
   "source": [
    "df2.show()"
   ]
  },
  {
   "cell_type": "code",
   "execution_count": 71,
   "id": "b44ff396",
   "metadata": {},
   "outputs": [],
   "source": [
    "df_all = df1.union(df2)"
   ]
  },
  {
   "cell_type": "markdown",
   "id": "2db7c39d",
   "metadata": {},
   "source": [
    "# Each employee has how many friends ?"
   ]
  },
  {
   "cell_type": "code",
   "execution_count": 72,
   "id": "103ca89f",
   "metadata": {},
   "outputs": [
    {
     "name": "stdout",
     "output_type": "stream",
     "text": [
      "+-----+---+\n",
      "|user1|cnt|\n",
      "+-----+---+\n",
      "|    1|  6|\n",
      "|    2|  5|\n",
      "|    3|  4|\n",
      "|    6|  3|\n",
      "|    7|  2|\n",
      "|    4|  2|\n",
      "|    5|  2|\n",
      "+-----+---+\n",
      "\n"
     ]
    }
   ],
   "source": [
    "df_all.groupBy('user1')\\\n",
    "      .agg(count('*').alias(\"cnt\"))\\\n",
    "      .sort(desc('cnt')).show()"
   ]
  },
  {
   "cell_type": "code",
   "execution_count": 76,
   "id": "a6c6352d",
   "metadata": {},
   "outputs": [
    {
     "name": "stdout",
     "output_type": "stream",
     "text": [
      "+-----+-----+\n",
      "|user1|user2|\n",
      "+-----+-----+\n",
      "|    1|    2|\n",
      "|    1|    3|\n",
      "|    2|    3|\n",
      "|    1|    4|\n",
      "|    2|    4|\n",
      "|    1|    5|\n",
      "|    2|    5|\n",
      "|    1|    7|\n",
      "|    3|    7|\n",
      "|    1|    6|\n",
      "|    3|    6|\n",
      "|    2|    6|\n",
      "|    2|    1|\n",
      "|    3|    1|\n",
      "|    3|    2|\n",
      "|    4|    1|\n",
      "|    4|    2|\n",
      "|    5|    1|\n",
      "|    5|    2|\n",
      "|    7|    1|\n",
      "+-----+-----+\n",
      "only showing top 20 rows\n",
      "\n"
     ]
    }
   ],
   "source": [
    "df_all.show()"
   ]
  },
  {
   "cell_type": "code",
   "execution_count": 74,
   "id": "b3010e7a",
   "metadata": {},
   "outputs": [],
   "source": [
    "df_all1 = df_all.select(col('user1').alias(\"user_1\"),col('user2').alias(\"user_2\"))  "
   ]
  },
  {
   "cell_type": "code",
   "execution_count": 75,
   "id": "68f0373f",
   "metadata": {},
   "outputs": [
    {
     "name": "stdout",
     "output_type": "stream",
     "text": [
      "+------+------+\n",
      "|user_1|user_2|\n",
      "+------+------+\n",
      "|     1|     2|\n",
      "|     1|     3|\n",
      "|     2|     3|\n",
      "|     1|     4|\n",
      "|     2|     4|\n",
      "|     1|     5|\n",
      "|     2|     5|\n",
      "|     1|     7|\n",
      "|     3|     7|\n",
      "|     1|     6|\n",
      "|     3|     6|\n",
      "|     2|     6|\n",
      "|     2|     1|\n",
      "|     3|     1|\n",
      "|     3|     2|\n",
      "|     4|     1|\n",
      "|     4|     2|\n",
      "|     5|     1|\n",
      "|     5|     2|\n",
      "|     7|     1|\n",
      "+------+------+\n",
      "only showing top 20 rows\n",
      "\n"
     ]
    }
   ],
   "source": [
    "df_all1.show()"
   ]
  },
  {
   "cell_type": "code",
   "execution_count": 98,
   "id": "e686a602",
   "metadata": {},
   "outputs": [
    {
     "name": "stdout",
     "output_type": "stream",
     "text": [
      "+-----+-----+------------+------------+\n",
      "|user1|user2|friend_user1|friend_user2|\n",
      "+-----+-----+------------+------------+\n",
      "|    7|    1|           1|           7|\n",
      "|    7|    1|           1|           7|\n",
      "|    7|    1|           3|           7|\n",
      "|    7|    1|           3|           7|\n",
      "|    7|    3|           1|           7|\n",
      "|    7|    3|           1|           7|\n",
      "|    7|    3|           3|           7|\n",
      "|    7|    3|           3|           7|\n",
      "|    3|    7|           7|           3|\n",
      "|    3|    7|           7|           3|\n",
      "|    3|    7|           7|           3|\n",
      "|    3|    7|           7|           3|\n",
      "|    3|    7|           6|           3|\n",
      "|    3|    7|           6|           3|\n",
      "|    3|    7|           6|           3|\n",
      "|    3|    7|           6|           3|\n",
      "|    3|    7|           1|           3|\n",
      "|    3|    7|           1|           3|\n",
      "|    3|    7|           1|           3|\n",
      "|    3|    7|           1|           3|\n",
      "+-----+-----+------------+------------+\n",
      "only showing top 20 rows\n",
      "\n"
     ]
    }
   ],
   "source": [
    "df_final= df_all.join(df_all1).filter(df_all.user1 == df_all1.user_1).select('user1','user2',df_all1.user_2.alias('friend_user1'))\\\n",
    "                 .join(df_all1).filter(df_all.user1 == df_all1.user_2).select('user1','user2','friend_user1' , df_all1.user_2.alias('friend_user2')).show() "
   ]
  },
  {
   "cell_type": "code",
   "execution_count": 99,
   "id": "1ed548de",
   "metadata": {},
   "outputs": [
    {
     "ename": "AttributeError",
     "evalue": "'NoneType' object has no attribute 'show'",
     "output_type": "error",
     "traceback": [
      "\u001b[0;31m---------------------------------------------------------------------------\u001b[0m",
      "\u001b[0;31mAttributeError\u001b[0m                            Traceback (most recent call last)",
      "\u001b[0;32m<ipython-input-99-c28b53b82f85>\u001b[0m in \u001b[0;36m<module>\u001b[0;34m\u001b[0m\n\u001b[0;32m----> 1\u001b[0;31m \u001b[0mdf_final\u001b[0m\u001b[0;34m.\u001b[0m\u001b[0mshow\u001b[0m\u001b[0;34m(\u001b[0m\u001b[0;34m)\u001b[0m\u001b[0;34m\u001b[0m\u001b[0;34m\u001b[0m\u001b[0m\n\u001b[0m",
      "\u001b[0;31mAttributeError\u001b[0m: 'NoneType' object has no attribute 'show'"
     ]
    }
   ],
   "source": [
    "df_final."
   ]
  },
  {
   "cell_type": "code",
   "execution_count": null,
   "id": "b5983a47",
   "metadata": {},
   "outputs": [],
   "source": [
    "df_final.select('*').where('friend_user1 == friend_user2 ')"
   ]
  }
 ],
 "metadata": {
  "kernelspec": {
   "display_name": "Pyspark 3",
   "language": "python",
   "name": "pyspark3"
  },
  "language_info": {
   "codemirror_mode": {
    "name": "ipython",
    "version": 3
   },
   "file_extension": ".py",
   "mimetype": "text/x-python",
   "name": "python",
   "nbconvert_exporter": "python",
   "pygments_lexer": "ipython3",
   "version": "3.6.12"
  }
 },
 "nbformat": 4,
 "nbformat_minor": 5
}
